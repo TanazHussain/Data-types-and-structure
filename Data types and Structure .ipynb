{
 "cells": [
  {
   "cell_type": "markdown",
   "id": "0f78a97d-971f-4258-9ad9-8756d5abba5e",
   "metadata": {},
   "source": [
    "**Data Types and Structures Questions**"
   ]
  },
  {
   "cell_type": "markdown",
   "id": "1507eb5d-9d57-4cf2-ac07-7bd71c572555",
   "metadata": {},
   "source": [
    "***1.What are data structures, and why are they important?***"
   ]
  },
  {
   "cell_type": "markdown",
   "id": "d1ea230a-9d2f-4749-a90a-67eaefaa567c",
   "metadata": {},
   "source": [
    "**Ans- Data structure is a way of organising and storing data so that it can be accessed and manipulated  efficiently.\n",
    "     They are important as they provide better data handling, efficiency , flexibility etc.**"
   ]
  },
  {
   "cell_type": "markdown",
   "id": "4238938c-8be8-47a8-ad69-88bd9f268bba",
   "metadata": {},
   "source": [
    "***2.Explain the difference between mutable and immutable data types with examples***"
   ]
  },
  {
   "cell_type": "markdown",
   "id": "570ee4bf-c287-42a4-96f2-a3a59c768ca8",
   "metadata": {},
   "source": [
    "**Ans- Mutable datatypes are those where the data/value in the objects/container can be changed after they are created.\n",
    "Example:-List, Dictionaries and sets.\n",
    "     Immutable data types are those where in the data/value in the objects/container cannot be changed after they are created.\n",
    "Example:- Tuple, string.**     "
   ]
  },
  {
   "cell_type": "markdown",
   "id": "c2401012-3aac-4fb2-9ce3-e638b83fd188",
   "metadata": {},
   "source": [
    "***3.What are the main differences between lists and tuples in Python?***"
   ]
  },
  {
   "cell_type": "markdown",
   "id": "29759874-d3d2-42a1-8e58-4f1fa8fe70af",
   "metadata": {},
   "source": [
    "**Ans- The main difference between list and tuple is that list are mutable in nature and typle are immutable in nature.**"
   ]
  },
  {
   "cell_type": "markdown",
   "id": "9d6eb73c-8930-44b8-812d-067837964b08",
   "metadata": {},
   "source": [
    "***4.Describe how dictionaries store data***"
   ]
  },
  {
   "cell_type": "markdown",
   "id": "7a4830c6-3177-4a61-85a9-0370d19c33e1",
   "metadata": {},
   "source": [
    "**Ans-   Dictionaries are a data structure in Python that store data as key-value pairs. They are unordered collections and are defined using curly braces {}. Keys are unique and immutable, while values can be of any data type.Keys are unique and immutable, while values can be of any data type.\n",
    "-Dictionaries are created using {} and key-value pairs separated by colons\n",
    "-Elements are accessed by referencing their keys using square brackets [].**"
   ]
  },
  {
   "cell_type": "markdown",
   "id": "0b007b14-d982-43b9-a204-3137de42eb55",
   "metadata": {},
   "source": [
    "***5.Why might you use a set instead of a list in Python***"
   ]
  },
  {
   "cell_type": "markdown",
   "id": "2dfa67a1-7ee9-46cc-beca-854d90eec48a",
   "metadata": {},
   "source": [
    "**Ans-Set can be prefered instead of list in python because set doesn't allow duplication of data.**"
   ]
  },
  {
   "cell_type": "markdown",
   "id": "4e1cb79d-86b6-49f0-9bde-d087100bad00",
   "metadata": {},
   "source": [
    "***6.What is a string in Python, and how is it different from a list?***"
   ]
  },
  {
   "cell_type": "markdown",
   "id": "cf0004a2-0038-4c3b-9bab-dcae8c985bce",
   "metadata": {},
   "source": [
    "**Ans- String is a sequence of characters used to represent and manipulate textual data. \n",
    "A string is immutale and homogenous in nature where else a list is mutable and heterogenous in nature.** "
   ]
  },
  {
   "cell_type": "markdown",
   "id": "d04a0489-4cb2-483e-9e69-d7b529e8e27b",
   "metadata": {},
   "source": [
    "***7.How do tuples ensure data integrity in Python?***"
   ]
  },
  {
   "cell_type": "markdown",
   "id": "b80641d0-a52a-497e-9408-7b04a9210252",
   "metadata": {},
   "source": [
    "**Ans-Tuples are immutable, meaning once created, their elements cannot be changed. This ensures data integrity by preventing accidental modifications. They're useful when you want to guarantee that a sequence of values remains constant throughout the program.**"
   ]
  },
  {
   "cell_type": "markdown",
   "id": "857bf51b-6f37-4ad5-b915-33be919cc89e",
   "metadata": {},
   "source": [
    "***8.What is a hash table, and how does it relate to dictionaries in Python?***"
   ]
  },
  {
   "cell_type": "markdown",
   "id": "6973acff-0ecd-448d-a9c1-ff557cacf2c7",
   "metadata": {},
   "source": [
    "**Ans-A hash table is a data structure that stores key-value pairs and allows fast retrieval using keys. Python’s dictionary is implemented using a hash table. Keys are hashed to generate unique indices where values are stored, allowing for average O(1) time complexity for lookups.**"
   ]
  },
  {
   "cell_type": "markdown",
   "id": "d6d181ed-0ec9-46b8-8b5c-0a607d9624b2",
   "metadata": {},
   "source": [
    "***9.Can lists contain different data types in Python?***"
   ]
  },
  {
   "cell_type": "markdown",
   "id": "7e935096-b140-41da-83e3-a21c8f3638b0",
   "metadata": {},
   "source": [
    "**Ans-Yes.Lists in python are heterogeneous, meaning they can store elements of different data types (e.g., [1, \"hello\", 3.14, True]).**"
   ]
  },
  {
   "cell_type": "markdown",
   "id": "c6dfcdad-2526-4284-ace1-353dc0519080",
   "metadata": {},
   "source": [
    "***10.Explain why strings are immutable in Python***"
   ]
  },
  {
   "cell_type": "markdown",
   "id": "1051e347-5f23-4551-9b3d-60bb0522d32b",
   "metadata": {},
   "source": [
    "**Ans- Strings are immutable to:\n",
    "-Improve performance (they can be interned/shared).\n",
    "-Enable safe hashing (used as dictionary keys).\n",
    "-Prevent accidental modifications.**"
   ]
  },
  {
   "cell_type": "markdown",
   "id": "fd9a316b-8c8e-4d7f-8134-dbbc7e4f988f",
   "metadata": {},
   "source": [
    "***11.What advantages do dictionaries offer over lists for certain tasks?***"
   ]
  },
  {
   "cell_type": "markdown",
   "id": "e424efca-2916-4e3b-9303-d5ea8cf02375",
   "metadata": {},
   "source": [
    "**Ans-Dictionaries offer:\n",
    "-Fast lookup (O(1)) using keys.\n",
    "-Semantic clarity, associating values with named keys.\n",
    "-Better performance when managing large datasets with unique identifiers.**"
   ]
  },
  {
   "cell_type": "markdown",
   "id": "30b9b378-d245-427d-81bf-2547ab5b56a3",
   "metadata": {},
   "source": [
    "***12. Describe a scenario where using a tuple would be preferable over a list.***"
   ]
  },
  {
   "cell_type": "markdown",
   "id": "eff18d0e-c9c1-4d7d-babd-456463afbead",
   "metadata": {},
   "source": [
    "**Ans-When storing data that should not change, like a coordinate pair (x, y) or days of the week. Tuples can also be used as keys in dictionaries, unlike lists.**"
   ]
  },
  {
   "cell_type": "markdown",
   "id": "79627c6b-1988-4948-9920-cf77ccebc044",
   "metadata": {},
   "source": [
    "***13.How do sets handle duplicate values in Python?***"
   ]
  },
  {
   "cell_type": "markdown",
   "id": "ad347897-215e-42a3-b39a-ba93c93103d0",
   "metadata": {},
   "source": [
    "**Ans- Sets automatically eliminate duplicates. When you add an existing element, it is ignored, maintaining only unique items.**"
   ]
  },
  {
   "cell_type": "markdown",
   "id": "45fe12e0-84fb-49a8-960c-dfab952704d1",
   "metadata": {},
   "source": [
    "***14.How does the “in” keyword work differently for lists and dictionaries?***"
   ]
  },
  {
   "cell_type": "markdown",
   "id": "9f90cce3-a5ab-438b-be3a-da50f26e6192",
   "metadata": {},
   "source": [
    "**Ans-\n",
    "In lists, \"in\" checks if a value exists.\n",
    "3 in [1, 2, 3]  # True\n",
    "In dictionaries, \"in\" checks if a key exists, not a value.\n",
    "'a' in {'a': 1, 'b': 2}  # True**"
   ]
  },
  {
   "cell_type": "markdown",
   "id": "90431ffc-a23c-46e3-8b38-dee736ab8b91",
   "metadata": {},
   "source": [
    "***15.Can you modify the elements of a tuple? Explain why or why not***"
   ]
  },
  {
   "cell_type": "markdown",
   "id": "c5e466f9-84d2-4b4c-be04-9abfebd5383b",
   "metadata": {},
   "source": [
    "**Ans-No, you cannot modify a tuple’s elements because tuples are immutable. Trying to do so raises a TypeError. However, if a tuple contains a mutable object (like a list), that object can be changed.**"
   ]
  },
  {
   "cell_type": "markdown",
   "id": "b1d065aa-01d8-4f63-957f-0b43f2a11e95",
   "metadata": {},
   "source": [
    "***16.What is a nested dictionary, and give an example of its use case?***"
   ]
  },
  {
   "cell_type": "markdown",
   "id": "68c46b8f-4d7f-4e6d-9c73-7b6534553dc3",
   "metadata": {},
   "source": [
    "**Ans-A nested dictionary is a dictionary that contains another dictionary as a value.\n",
    "students = {\n",
    "  'Alice': {'age': 25, 'grade': 'A'},\n",
    "  'Bob': {'age': 22, 'grade': 'B'}\n",
    "}\n",
    "Use case: Storing structured data, like a database of user profiles.**"
   ]
  },
  {
   "cell_type": "markdown",
   "id": "4e8abf88-003f-4739-a1d8-57f60c4495cf",
   "metadata": {},
   "source": [
    "***17.Describe the time complexity of accessing elements in a dictionary.***"
   ]
  },
  {
   "cell_type": "markdown",
   "id": "bc1ced85-e62a-4a1c-9a08-19a07ec10040",
   "metadata": {},
   "source": [
    "**Ans-Accessing elements in a Python dictionary has an average time complexity of O(1) because dictionaries use a hash table. When a key is used, Python hashes it to find the value's location quickly. In rare cases with many hash collisions, the worst-case time complexity can degrade to O(n), but this is uncommon due to Python's efficient handling of collisions. Overall, dictionary access is fast and reliable in most situations.**"
   ]
  },
  {
   "cell_type": "markdown",
   "id": "22d94779-6819-4334-a2da-c3f05df34995",
   "metadata": {},
   "source": [
    "***18.In what situations are lists preferred over dictionaries?***"
   ]
  },
  {
   "cell_type": "markdown",
   "id": "efa91414-b54a-47ef-a273-dd6ecf07bb69",
   "metadata": {},
   "source": [
    "**Ans- Use lists when:\n",
    "-Order matters (e.g., sequences).\n",
    "-You need to store unordered values without named identifiers.\n",
    "-Keys are not necessary.**"
   ]
  },
  {
   "cell_type": "markdown",
   "id": "96650b0f-efe0-4b4b-8075-135d002a910c",
   "metadata": {},
   "source": [
    "***19.Why are dictionaries considered unordered, and how does that affect data retrieval?***"
   ]
  },
  {
   "cell_type": "markdown",
   "id": "0d356ca5-2ad6-4743-8cce-713888ef42b3",
   "metadata": {},
   "source": [
    "**Ans-Prior to Python 3.7, dictionaries were unordered, meaning key insertion order wasn’t preserved. Since Python 3.7+, insertion order is maintained, but logically they are still key-based, not position-based, so data is accessed via keys, not index.**"
   ]
  },
  {
   "cell_type": "markdown",
   "id": "236a8aa7-737c-429b-b537-51059a58758d",
   "metadata": {},
   "source": [
    "***20.Explain the difference between a list and a dictionary in terms of data retrieval.***"
   ]
  },
  {
   "cell_type": "markdown",
   "id": "554aa032-98aa-4c1b-8179-f25f30236990",
   "metadata": {},
   "source": [
    "**Ans-The main difference between a list and a dictionary in terms of data retrieval is how you access elements. In a list, data is retrieved by index, meaning you access items based on their position (e.g., my_list[0]). In a dictionary, data is retrieved by key, so you access values using a specific identifier (e.g., my_dict['name']). Lists are best when order matters and you need to loop through items in sequence, while dictionaries are ideal when you need fast lookups based on unique keys.**"
   ]
  },
  {
   "cell_type": "markdown",
   "id": "54de023f-135b-427b-a013-72abdb384473",
   "metadata": {},
   "source": [
    " **Practical Questions**"
   ]
  },
  {
   "cell_type": "code",
   "execution_count": 2,
   "id": "db83ece1-ca9d-4e91-b01d-4efcd78ffe12",
   "metadata": {},
   "outputs": [
    {
     "name": "stdin",
     "output_type": "stream",
     "text": [
      "Enter your name Tanaz\n"
     ]
    },
    {
     "name": "stdout",
     "output_type": "stream",
     "text": [
      "My name is Tanaz\n"
     ]
    }
   ],
   "source": [
    "# 1. Write a code to create a string with your name and print it\n",
    "\n",
    "name = input(\"Enter your name\")\n",
    "print(\"My name is\", name)"
   ]
  },
  {
   "cell_type": "code",
   "execution_count": 3,
   "id": "ec38d115-eeac-49a7-8e7b-8d74b64d3ef9",
   "metadata": {},
   "outputs": [
    {
     "data": {
      "text/plain": [
       "11"
      ]
     },
     "execution_count": 3,
     "metadata": {},
     "output_type": "execute_result"
    }
   ],
   "source": [
    "# 2.Write a code to find the length of the string \"Hello World\"\n",
    "\n",
    "a = \"Hello World\"\n",
    "len(a)"
   ]
  },
  {
   "cell_type": "code",
   "execution_count": 5,
   "id": "7703dbbb-4e5f-4090-8280-ecbe71fd9814",
   "metadata": {},
   "outputs": [
    {
     "data": {
      "text/plain": [
       "'Pyt'"
      ]
     },
     "execution_count": 5,
     "metadata": {},
     "output_type": "execute_result"
    }
   ],
   "source": [
    "# 3.Write a code to slice the first 3 characters from the string \"Python Programming\"\n",
    "\n",
    "word = \"Python Programming\"\n",
    "word[0:3] "
   ]
  },
  {
   "cell_type": "code",
   "execution_count": 18,
   "id": "cabcb894-3920-44b9-821f-e1aeba0e1787",
   "metadata": {},
   "outputs": [
    {
     "data": {
      "text/plain": [
       "'HELLO'"
      ]
     },
     "execution_count": 18,
     "metadata": {},
     "output_type": "execute_result"
    }
   ],
   "source": [
    "# 4.Write a code to convert the string \"hello\" to uppercase\n",
    "\n",
    "text = \"hello\"\n",
    "text.upper()"
   ]
  },
  {
   "cell_type": "code",
   "execution_count": 19,
   "id": "eef7471b-76fe-46b9-bb9f-41d013839a90",
   "metadata": {},
   "outputs": [
    {
     "data": {
      "text/plain": [
       "'I like orange'"
      ]
     },
     "execution_count": 19,
     "metadata": {},
     "output_type": "execute_result"
    }
   ],
   "source": [
    "# 5.Write a code to replace the word \"apple\" with \"orange\" in the string \"I like apple\"\n",
    "\n",
    "text =\"I like apple\"\n",
    "text.replace(\"apple\", \"orange\")"
   ]
  },
  {
   "cell_type": "code",
   "execution_count": 20,
   "id": "4bace5a0-5d91-4fe1-9272-58c476348e4c",
   "metadata": {},
   "outputs": [
    {
     "name": "stdout",
     "output_type": "stream",
     "text": [
      "[1, 2, 3, 4, 5]\n"
     ]
    }
   ],
   "source": [
    "# 6.Write a code to create a list with numbers 1 to 5 and print it.\n",
    "\n",
    "lis = [1,2,3,4,5]\n",
    "print(lis)"
   ]
  },
  {
   "cell_type": "code",
   "execution_count": 25,
   "id": "f33aa9c6-d7f4-449b-8512-e4ec9336b246",
   "metadata": {},
   "outputs": [
    {
     "name": "stdout",
     "output_type": "stream",
     "text": [
      "[1, 2, 3, 4, 10]\n"
     ]
    }
   ],
   "source": [
    "# 7.Write a code to append the number 10 to the list [1, 2, 3, 4].\n",
    "\n",
    "lis = [1,2,3,4]\n",
    "lis.append(10)\n",
    "print(lis)"
   ]
  },
  {
   "cell_type": "code",
   "execution_count": 28,
   "id": "5c3c4018-3ec4-43fa-86d2-0562b392713a",
   "metadata": {},
   "outputs": [
    {
     "name": "stdout",
     "output_type": "stream",
     "text": [
      "[1, 2, 4, 5]\n"
     ]
    }
   ],
   "source": [
    "# 8.Write a code to remove the number 3 from the list [1, 2, 3, 4, 5]\n",
    "\n",
    "lis =[1,2,3,4,5]\n",
    "lis.remove(3)\n",
    "print(lis)"
   ]
  },
  {
   "cell_type": "code",
   "execution_count": 30,
   "id": "38def2ce-f7d7-46d9-8674-82db08d593f9",
   "metadata": {},
   "outputs": [
    {
     "data": {
      "text/plain": [
       "'b'"
      ]
     },
     "execution_count": 30,
     "metadata": {},
     "output_type": "execute_result"
    }
   ],
   "source": [
    "# 9.Write a code to access the second element in the list ['a', 'b', 'c', 'd']\n",
    "\n",
    "lis = [\"a\",\"b\",\"c\",\"d\"]\n",
    "lis[1]"
   ]
  },
  {
   "cell_type": "code",
   "execution_count": 32,
   "id": "644208eb-113e-4861-b65b-85436d92549d",
   "metadata": {},
   "outputs": [
    {
     "data": {
      "text/plain": [
       "[50, 40, 30, 20, 10]"
      ]
     },
     "execution_count": 32,
     "metadata": {},
     "output_type": "execute_result"
    }
   ],
   "source": [
    "# 10.Write a code to reverse the list [10, 20, 30, 40, 50].\n",
    "\n",
    "lis = [10,20,30,40,50]\n",
    "lis[::-1]"
   ]
  },
  {
   "cell_type": "code",
   "execution_count": 36,
   "id": "581a0418-468b-4ee8-ad61-38b7ab9ce04f",
   "metadata": {},
   "outputs": [
    {
     "name": "stdout",
     "output_type": "stream",
     "text": [
      "(100, 200, 300)\n"
     ]
    },
    {
     "data": {
      "text/plain": [
       "tuple"
      ]
     },
     "execution_count": 36,
     "metadata": {},
     "output_type": "execute_result"
    }
   ],
   "source": [
    "# 11.Write a code to create a tuple with the elements 100, 200, 300 and print it.\n",
    "\n",
    "tup = (100,200,300)\n",
    "print(tup)\n",
    "type(tup)"
   ]
  },
  {
   "cell_type": "code",
   "execution_count": 39,
   "id": "91d56fe2-0df9-498e-b220-a1e1852d7a17",
   "metadata": {},
   "outputs": [
    {
     "data": {
      "text/plain": [
       "'blue'"
      ]
     },
     "execution_count": 39,
     "metadata": {},
     "output_type": "execute_result"
    }
   ],
   "source": [
    "# 12. Write a code to access the second-to-last element of the tuple ('red', 'green', 'blue', 'yellow').\n",
    "\n",
    "tup = (\"red\",\"green\",\"blue\",\"yellow\")\n",
    "tup[-2]"
   ]
  },
  {
   "cell_type": "code",
   "execution_count": 50,
   "id": "a7ff61ca-c395-4a42-80d7-7a56e7db4185",
   "metadata": {},
   "outputs": [
    {
     "name": "stdout",
     "output_type": "stream",
     "text": [
      "The minimum no is : 5\n"
     ]
    }
   ],
   "source": [
    "# 13.Write a code to find the minimum number in the tuple (10, 20, 5, 15).\n",
    "\n",
    "numbers = (10,20,5,15)\n",
    "minimum = min(numbers)\n",
    "print(\"The minimum no is :\", minimum)"
   ]
  },
  {
   "cell_type": "code",
   "execution_count": 53,
   "id": "5a777f48-9c0f-4ac5-a7bb-4901b2c2505d",
   "metadata": {},
   "outputs": [
    {
     "data": {
      "text/plain": [
       "1"
      ]
     },
     "execution_count": 53,
     "metadata": {},
     "output_type": "execute_result"
    }
   ],
   "source": [
    "# 14.Write a code to find the index of the element \"cat\" in the tuple ('dog', 'cat', 'rabbit').\n",
    "\n",
    "animals = (\"dog\",\"cat\",\"rabbit\")\n",
    "animals.index(\"cat\")"
   ]
  },
  {
   "cell_type": "code",
   "execution_count": 57,
   "id": "32556388-64a0-4902-b234-5bdbe23f1d22",
   "metadata": {},
   "outputs": [
    {
     "data": {
      "text/plain": [
       "True"
      ]
     },
     "execution_count": 57,
     "metadata": {},
     "output_type": "execute_result"
    }
   ],
   "source": [
    "# 15.Write a code to create a tuple containing three different fruits and check if \"kiwi\" is in it.\n",
    "\n",
    "fruits = (\"Apple\",\"Mango\",\"Kiwi\")\n",
    "\"Kiwi\" in fruits"
   ]
  },
  {
   "cell_type": "code",
   "execution_count": 60,
   "id": "33b695bc-2648-4753-b2b5-4b6aa1a6ea9b",
   "metadata": {},
   "outputs": [
    {
     "name": "stdout",
     "output_type": "stream",
     "text": [
      "{'a', 'b', 'c'}\n"
     ]
    }
   ],
   "source": [
    "# 16.Write a code to create a set with the elements 'a', 'b', 'c' and print it.\n",
    "\n",
    "s ={\"a\",\"b\",\"c\"}\n",
    "print(s)"
   ]
  },
  {
   "cell_type": "code",
   "execution_count": 72,
   "id": "e23e8ce8-a797-4598-8be3-26ee226b242b",
   "metadata": {},
   "outputs": [
    {
     "name": "stdout",
     "output_type": "stream",
     "text": [
      "Before clearing: {1, 2, 3, 4, 5}\n",
      "After clearing: set()\n"
     ]
    }
   ],
   "source": [
    "# 17.Write a code to clear all elements from the set {1, 2, 3, 4, 5}.\n",
    "\n",
    "s = {1,2,3,4,5}\n",
    "print(\"Before clearing:\",s)\n",
    "s.clear()\n",
    "print(\"After clearing:\", s)"
   ]
  },
  {
   "cell_type": "code",
   "execution_count": 78,
   "id": "e711cea6-d951-40d1-839b-331e8963bc0c",
   "metadata": {},
   "outputs": [
    {
     "name": "stdout",
     "output_type": "stream",
     "text": [
      "{1, 2, 3}\n"
     ]
    }
   ],
   "source": [
    "# 18.Write a code to remove the element 4 from the set {1, 2, 3, 4}.\n",
    "\n",
    "s = {1,2,3,4}\n",
    "s.remove(4)\n",
    "print(s)"
   ]
  },
  {
   "cell_type": "code",
   "execution_count": 91,
   "id": "abc8c0a2-11ad-42b0-9e9e-54ab4f14e660",
   "metadata": {},
   "outputs": [
    {
     "name": "stdout",
     "output_type": "stream",
     "text": [
      "The union of set1 and set2 is: {1, 2, 3, 4, 5}\n"
     ]
    }
   ],
   "source": [
    "# 19.Write a code to find the union of two sets {1, 2, 3} and {3, 4, 5}.\n",
    "\n",
    "set1 = {1,2,3}\n",
    "set2 = {3,4,5}\n",
    "print(\"The union of set1 and set2 is:\", set1|set2)"
   ]
  },
  {
   "cell_type": "code",
   "execution_count": 92,
   "id": "50c99d85-92db-43dd-a086-a445d562f65c",
   "metadata": {},
   "outputs": [
    {
     "name": "stdout",
     "output_type": "stream",
     "text": [
      "The intersection of set1 and set 2 is: {3}\n"
     ]
    }
   ],
   "source": [
    "# 20.Write a code to find the intersection of two sets {1, 2, 3} and {2, 3, 4}.\n",
    "\n",
    "set1 = {1,2,3}\n",
    "set2 = {3,4,5}\n",
    "print(\"The intersection of set1 and set 2 is:\", set1 & set2)"
   ]
  },
  {
   "cell_type": "code",
   "execution_count": 106,
   "id": "a2d38283-83fc-4ec5-8aee-f5e573a81734",
   "metadata": {},
   "outputs": [
    {
     "name": "stdout",
     "output_type": "stream",
     "text": [
      "{'name': 'Mohan', 'age': 25, 'city': 'Mumbai'}\n"
     ]
    }
   ],
   "source": [
    "# 21.Write a code to create a dictionary with the keys \"name\", \"age\", and \"city\", and print it.\n",
    "\n",
    "dictionary = {\"name\": \"Mohan\" , \"age\":25,\"city\":\"Mumbai\"}\n",
    "print(dictionary)"
   ]
  },
  {
   "cell_type": "code",
   "execution_count": 107,
   "id": "0bfba270-6895-4624-ba29-1e85e57b1305",
   "metadata": {},
   "outputs": [
    {
     "name": "stdout",
     "output_type": "stream",
     "text": [
      "{'name': 'John', 'age': 25, 'country': 'USA'}\n"
     ]
    }
   ],
   "source": [
    "# 22.Write a code to add a new key-value pair \"country\": \"USA\" to the dictionary {'name': 'John', 'age': 25}.\n",
    "\n",
    "d1 = {'name': 'John', 'age': 25}\n",
    "d2 = {\"country\": \"USA\"}\n",
    "d1.update(d2)\n",
    "print(d1)"
   ]
  },
  {
   "cell_type": "code",
   "execution_count": 108,
   "id": "8d6d9fda-961a-47ef-8b7a-1c6378c2346f",
   "metadata": {},
   "outputs": [
    {
     "data": {
      "text/plain": [
       "'Alice'"
      ]
     },
     "execution_count": 108,
     "metadata": {},
     "output_type": "execute_result"
    }
   ],
   "source": [
    "# 23.Write a code to access the value associated with the key \"name\" in the dictionary {'name': 'Alice', 'age': 30}.\n",
    "\n",
    "dictionary = {'name': 'Alice', 'age': 30}\n",
    "dictionary.get(\"name\")"
   ]
  },
  {
   "cell_type": "code",
   "execution_count": 112,
   "id": "c567c9c4-cdf4-4076-85e6-2a96deae7bb9",
   "metadata": {},
   "outputs": [
    {
     "name": "stdout",
     "output_type": "stream",
     "text": [
      "{'name': 'Bob', 'city': 'New York'}\n"
     ]
    }
   ],
   "source": [
    "# 24.Write a code to remove the key \"age\" from the dictionary {'name': 'Bob', 'age': 22, 'city': 'New York'}.\n",
    "\n",
    "dictionary = {'name': 'Bob', 'age': 22, 'city': 'New York'}\n",
    "del dictionary[\"age\"]\n",
    "print(dictionary)"
   ]
  },
  {
   "cell_type": "code",
   "execution_count": 121,
   "id": "d34b4e43-1cac-4a48-b0ca-5e8ccb0e81c1",
   "metadata": {},
   "outputs": [
    {
     "name": "stdout",
     "output_type": "stream",
     "text": [
      "key 'city' is present in dictionary\n"
     ]
    }
   ],
   "source": [
    "# 25.Write a code to check if the key \"city\" exists in the dictionary {'name': 'Alice', 'city': 'Paris'}.\n",
    "\n",
    "dictionary = {'name': 'Alice', 'city': 'Paris'}\n",
    "if city in dictionary:\n",
    "    print(\"key 'city' is present in dictionary\")\n",
    "else:\n",
    "    print(\"key 'city' is not present in dictionary\")"
   ]
  },
  {
   "cell_type": "code",
   "execution_count": 136,
   "id": "59d079d1-8e82-4bd8-983c-f9124a5421bc",
   "metadata": {},
   "outputs": [
    {
     "name": "stdout",
     "output_type": "stream",
     "text": [
      "[1, 2, 3, 4, 'Ajay', 'Apple']\n",
      "(1, 2, 3, 4, 'Ajay', 'Apple')\n",
      "{'name': 'Alice', 'city': 'Paris'}\n"
     ]
    }
   ],
   "source": [
    "# 26.Write a code to create a list, a tuple, and a dictionary, and print them all.\n",
    "\n",
    "# List with mixed data types\n",
    "lis = [1, 2, 3, 4, \"Ajay\", \"Apple\"]\n",
    "print(lis)  # Prints the original list\n",
    "\n",
    "# Convert list to tuple\n",
    "tup = tuple(lis)\n",
    "print(tup)  # Prints the tuple version of the list\n",
    "\n",
    "# Define a dictionary\n",
    "dic = {'name': 'Alice', 'city': 'Paris'}\n",
    "print(dic)  # Prints the dictionary\n"
   ]
  },
  {
   "cell_type": "code",
   "execution_count": 144,
   "id": "72db62fa-8a36-4b86-823b-6236395c81b6",
   "metadata": {},
   "outputs": [
    {
     "name": "stdout",
     "output_type": "stream",
     "text": [
      "Before sorting: [20, 4, 89, 16, 76]\n",
      "After sorting: [4, 16, 20, 76, 89]\n"
     ]
    }
   ],
   "source": [
    "# 27. Write a code to create a list of 5 random numbers between 1 and 100, sort it in ascending order, and print the result.\n",
    "\n",
    "list_numbers = [20,4,89,16,76]\n",
    "print(\"Before sorting:\",list_numbers)\n",
    "list_numbers.sort()\n",
    "print(\"After sorting:\",list_numbers)"
   ]
  },
  {
   "cell_type": "code",
   "execution_count": 147,
   "id": "4d0c2c4b-c79b-4582-b797-441a5e09c7a2",
   "metadata": {},
   "outputs": [
    {
     "name": "stdout",
     "output_type": "stream",
     "text": [
      "Guava\n"
     ]
    }
   ],
   "source": [
    "# 28.Write a code to create a list with strings and print the element at the third index.\n",
    "\n",
    "names = [\"Apple\",\"Mango\",\"Banana\",\"Guava\",\"Grapes\"]\n",
    "print(names[3])"
   ]
  },
  {
   "cell_type": "code",
   "execution_count": 159,
   "id": "9d955828-f562-4d5b-8733-4cc1c542e033",
   "metadata": {},
   "outputs": [
    {
     "name": "stdout",
     "output_type": "stream",
     "text": [
      "{'name': 'Mohan', 'age': 25, 'city': 'Mumbai', 'occupation': 'Business'}\n"
     ]
    }
   ],
   "source": [
    "# 29.Write a code to combine two dictionaries into one and print the result.\n",
    "\n",
    "dic1 = {\"name\": \"Mohan\", \"age\": 25, \"city\": \"Mumbai\"}\n",
    "dic2 = {\"occupation\": \"Business\"}\n",
    "\n",
    "dic1.update(dic2)  # Adds items from dic2 into dic1\n",
    "print(dic1)\n"
   ]
  },
  {
   "cell_type": "code",
   "execution_count": 164,
   "id": "7fd1eb6d-1ed4-48f4-8e81-3c0204d753a4",
   "metadata": {},
   "outputs": [
    {
     "name": "stdout",
     "output_type": "stream",
     "text": [
      "['Apple', 'Mango', 'Banana', 'Banana', 'Guava', 'Grapes', 'Apple']\n",
      "{'Apple', 'Banana', 'Guava', 'Grapes', 'Mango'}\n"
     ]
    }
   ],
   "source": [
    "# 30.Write a code to convert a list of strings into a set.\n",
    "\n",
    "lis = [\"Apple\",\"Mango\",\"Banana\",\"Banana\",\"Guava\",\"Grapes\",\"Apple\"]\n",
    "print(lis)\n",
    "s =set(lis)\n",
    "print(s)"
   ]
  }
 ],
 "metadata": {
  "kernelspec": {
   "display_name": "Python 3 (ipykernel)",
   "language": "python",
   "name": "python3"
  },
  "language_info": {
   "codemirror_mode": {
    "name": "ipython",
    "version": 3
   },
   "file_extension": ".py",
   "mimetype": "text/x-python",
   "name": "python",
   "nbconvert_exporter": "python",
   "pygments_lexer": "ipython3",
   "version": "3.13.5"
  }
 },
 "nbformat": 4,
 "nbformat_minor": 5
}
